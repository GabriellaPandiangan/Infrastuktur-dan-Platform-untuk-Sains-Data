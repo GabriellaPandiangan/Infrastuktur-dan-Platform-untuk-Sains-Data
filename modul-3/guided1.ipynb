{
 "cells": [
  {
   "cell_type": "code",
   "execution_count": null,
   "metadata": {
    "vscode": {
     "languageId": "plaintext"
    }
   },
   "outputs": [],
   "source": [
    "import pandas as pd\n",
    "import numpy as np\n",
    "import matplotlib.pyplot as plt #visualisasi\n",
    "import seaborn as sns #visualisasi\n",
    "\n",
    "from sklearn.impute import KNNImputer #Imputasi\n",
    "from sklearn.preprocessing import StandardScaler #scaling\n",
    "from imblearn.over_sampling import SMOTE #oversampling\n",
    "from worldcloud import WordCloud #visualisasi kata\n"
   ]
  },
  {
   "cell_type": "code",
   "execution_count": null,
   "metadata": {
    "vscode": {
     "languageId": "plaintext"
    }
   },
   "outputs": [],
   "source": []
  }
 ],
 "metadata": {
  "language_info": {
   "name": "python"
  }
 },
 "nbformat": 4,
 "nbformat_minor": 2
}
